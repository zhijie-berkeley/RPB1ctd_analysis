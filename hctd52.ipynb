{
 "cells": [
  {
   "cell_type": "code",
   "execution_count": 1,
   "metadata": {},
   "outputs": [],
   "source": [
    "with open('hCTD52.txt', 'r') as f:\n",
    "  hctd52 = f.read()\n",
    "print(hctd52)"
   ]
  },
  {
   "cell_type": "code",
   "execution_count": 2,
   "metadata": {},
   "outputs": [],
   "source": [
    "hctd52 = hctd52.rstrip()"
   ]
  },
  {
   "cell_type": "code",
   "execution_count": 3,
   "metadata": {},
   "outputs": [],
   "source": [
    "hctd_list = []\n",
    "index = hctd52.index(\"Y\", 1)\n",
    "start = 0\n",
    "while index>0:\n",
    "    hctd_list.append(hctd52[start:index])\n",
    "    start = index\n",
    "#     print(index)\n",
    "    index = hctd52.find(\"Y\", index + 1)\n",
    "hctd_list.append(hctd52[start:])\n",
    "print(hctd_list)\n",
    "    "
   ]
  },
  {
   "cell_type": "code",
   "execution_count": 4,
   "metadata": {},
   "outputs": [],
   "source": [
    "# import csv\n",
    "# with open(\"hctd52.csv\", \"w\") as f:\n",
    "#         writer = csv.writer(f, delimiter=',')\n",
    "#         writer.writerow([1, 2, 3, 4, 5, 6, 7])\n",
    "#         for i in hctd_list:\n",
    "#             writer.writerow(i)"
   ]
  },
  {
   "cell_type": "code",
   "execution_count": 5,
   "metadata": {},
   "outputs": [],
   "source": [
    "import pandas as pd\n",
    "df = pd.DataFrame(list(i) for i in hctd_list)\n",
    "df.to_csv(\"hctd52.csv\", sep=',', index = False)"
   ]
  },
  {
   "cell_type": "code",
   "execution_count": 6,
   "metadata": {},
   "outputs": [],
   "source": [
    "# df = pd.read_csv('hctd52.csv', error_bad_lines=False)\n",
    "df2 = pd.read_csv('hctd52.csv')"
   ]
  },
  {
   "cell_type": "code",
   "execution_count": 7,
   "metadata": {},
   "outputs": [
    {
     "data": {
      "text/plain": [
       "0     P\n",
       "1     P\n",
       "2     P\n",
       "3     P\n",
       "4     P\n",
       "5     P\n",
       "6     P\n",
       "7     P\n",
       "8     P\n",
       "9     P\n",
       "10    P\n",
       "11    P\n",
       "12    P\n",
       "13    P\n",
       "14    P\n",
       "15    P\n",
       "16    P\n",
       "17    P\n",
       "18    P\n",
       "19    P\n",
       "20    P\n",
       "21    P\n",
       "22    P\n",
       "23    P\n",
       "24    P\n",
       "25    P\n",
       "26    P\n",
       "27    P\n",
       "28    P\n",
       "29    P\n",
       "30    P\n",
       "31    P\n",
       "32    P\n",
       "33    P\n",
       "34    P\n",
       "35    P\n",
       "36    P\n",
       "37    P\n",
       "38    P\n",
       "39    P\n",
       "40    P\n",
       "41    P\n",
       "42    P\n",
       "43    P\n",
       "44    P\n",
       "45    P\n",
       "46    P\n",
       "47    P\n",
       "48    P\n",
       "49    P\n",
       "50    P\n",
       "51    L\n",
       "Name: 2, dtype: object"
      ]
     },
     "execution_count": 7,
     "metadata": {},
     "output_type": "execute_result"
    }
   ],
   "source": [
    "df2.iloc[:,2]"
   ]
  },
  {
   "cell_type": "code",
   "execution_count": 39,
   "metadata": {},
   "outputs": [
    {
     "name": "stdout",
     "output_type": "stream",
     "text": [
      "The amino acid composition at position 1 is:\n",
      " Y    52\n",
      "Name: 0, dtype: int64 \n",
      "\n",
      "The amino acid composition at position 2 is:\n",
      " S    43\n",
      "T     8\n",
      "E     1\n",
      "Name: 1, dtype: int64 \n",
      "\n",
      "The amino acid composition at position 3 is:\n",
      " P    51\n",
      "L     1\n",
      "Name: 2, dtype: int64 \n",
      "\n",
      "The amino acid composition at position 4 is:\n",
      " T    45\n",
      "S     4\n",
      "Q     2\n",
      "R     1\n",
      "Name: 3, dtype: int64 \n",
      "\n",
      "The amino acid composition at position 5 is:\n",
      " S    51\n",
      "T     1\n",
      "Name: 4, dtype: int64 \n",
      "\n",
      "The amino acid composition at position 6 is:\n",
      " P    52\n",
      "Name: 5, dtype: int64 \n",
      "\n",
      "The amino acid composition at position 7 is:\n",
      " S    26\n",
      "K     8\n",
      "T     6\n",
      "N     5\n",
      "G     2\n",
      "A     2\n",
      "R     1\n",
      "V     1\n",
      "E     1\n",
      "Name: 6, dtype: int64 \n",
      "\n"
     ]
    }
   ],
   "source": [
    "import numpy as np\n",
    "for i in np.arange(7):\n",
    "    print(f\"The amino acid composition at position {i+1} is:\\n\", df2.iloc[:,i].value_counts(), '\\n')"
   ]
  },
  {
   "cell_type": "code",
   "execution_count": 9,
   "metadata": {},
   "outputs": [],
   "source": [
    "def aa_counter(column_index):\n",
    "    amino_acids = []\n",
    "    percentages = []\n",
    "    for amino_acid in df2.iloc[:,column_index].unique():\n",
    "        amino_acids.append(amino_acid)\n",
    "        aa_count = df2.iloc[:,column_index].str.count(amino_acid).sum()\n",
    "        total = len(df2.iloc[:,column_index])\n",
    "        percentage = aa_count/total*100\n",
    "        percentages.append(percentage)\n",
    "    return amino_acids, percentages"
   ]
  },
  {
   "cell_type": "code",
   "execution_count": 10,
   "metadata": {},
   "outputs": [
    {
     "name": "stdout",
     "output_type": "stream",
     "text": [
      "\n",
      "At position 1:\n",
      "Y is: 100.0%\n",
      "\n",
      "At position 2:\n",
      "S is: 82.6923076923077%\n",
      "E is: 1.9230769230769231%\n",
      "T is: 15.384615384615385%\n",
      "\n",
      "At position 3:\n",
      "P is: 98.07692307692307%\n",
      "L is: 1.9230769230769231%\n",
      "\n",
      "At position 4:\n",
      "T is: 86.53846153846155%\n",
      "R is: 1.9230769230769231%\n",
      "Q is: 3.8461538461538463%\n",
      "S is: 7.6923076923076925%\n",
      "\n",
      "At position 5:\n",
      "S is: 98.07692307692307%\n",
      "T is: 1.9230769230769231%\n",
      "\n",
      "At position 6:\n",
      "P is: 100.0%\n",
      "\n",
      "At position 7:\n",
      "A is: 3.8461538461538463%\n",
      "G is: 3.8461538461538463%\n",
      "S is: 50.0%\n",
      "N is: 9.615384615384617%\n",
      "R is: 1.9230769230769231%\n",
      "T is: 11.538461538461538%\n",
      "K is: 15.384615384615385%\n",
      "E is: 1.9230769230769231%\n",
      "V is: 1.9230769230769231%\n"
     ]
    },
    {
     "data": {
      "image/png": "[encoded data removed]",
      "text/plain": [
       "<Figure size 432x288 with 1 Axes>"
      ]
     },
     "metadata": {
      "needs_background": "light"
     },
     "output_type": "display_data"
    }
   ],
   "source": [
    "import matplotlib.pyplot as plt\n",
    "%matplotlib inline\n",
    "for i in np.arange(7):\n",
    "    amino_acids, percentages = aa_counter(i)    \n",
    "    print(f\"\\nAt position {i+1}:\")\n",
    "    for amino_acid, percentage in zip(amino_acids, percentages):\n",
    "        print(f\"{amino_acid} is: {percentage}%\")\n",
    "        plt.bar(i+1, percentage)"
   ]
  },
  {
   "cell_type": "code",
   "execution_count": 34,
   "metadata": {},
   "outputs": [
    {
     "name": "stdout",
     "output_type": "stream",
     "text": [
      "0 T\n",
      "1 K\n",
      "2 S\n",
      "3 Y\n",
      "4 Q\n",
      "5 I\n",
      "6 A\n",
      "7 G\n",
      "8 N\n",
      "9 R\n",
      "10 L\n",
      "11 D\n",
      "12 E\n",
      "13 V\n",
      "14 P\n"
     ]
    },
    {
     "data": {
      "text/plain": [
       "{'T': 'blue',\n",
       " 'K': (0.6823529411764706, 0.7803921568627451, 0.9098039215686274),\n",
       " 'S': 'green',\n",
       " 'Y': 'red',\n",
       " 'Q': (0.17254901960784313, 0.6274509803921569, 0.17254901960784313),\n",
       " 'I': (0.596078431372549, 0.8745098039215686, 0.5411764705882353),\n",
       " 'A': (0.8392156862745098, 0.15294117647058825, 0.1568627450980392),\n",
       " 'G': (1.0, 0.596078431372549, 0.5882352941176471),\n",
       " 'N': (0.5803921568627451, 0.403921568627451, 0.7411764705882353),\n",
       " 'R': (0.7725490196078432, 0.6901960784313725, 0.8352941176470589),\n",
       " 'L': (0.5490196078431373, 0.33725490196078434, 0.29411764705882354),\n",
       " 'D': (0.7686274509803922, 0.611764705882353, 0.5803921568627451),\n",
       " 'E': (0.8901960784313725, 0.4666666666666667, 0.7607843137254902),\n",
       " 'V': (0.9686274509803922, 0.7137254901960784, 0.8235294117647058),\n",
       " 'P': 'pink'}"
      ]
     },
     "execution_count": 34,
     "metadata": {},
     "output_type": "execute_result"
    }
   ],
   "source": [
    "from matplotlib.cm import get_cmap\n",
    "colors = get_cmap('tab20').colors\n",
    "# axes.set_prop_cycle(color=colors)\n",
    "aa_colors = []\n",
    "all_aa = list(set(hctd52))\n",
    "for i, aa in enumerate(all_aa):\n",
    "    print(i, aa)\n",
    "    aa_colors.append(colors[i])\n",
    "color_dict = {all_aa[i]: aa_colors[i] for i in range(len(all_aa))}\n",
    "color_dict['Y'] = 'red'\n",
    "color_dict['S'] = 'green'\n",
    "color_dict['P'] = 'pink'\n",
    "color_dict['T'] = 'blue'\n",
    "color_dict"
   ]
  },
  {
   "cell_type": "code",
   "execution_count": 36,
   "metadata": {},
   "outputs": [
    {
     "name": "stdout",
     "output_type": "stream",
     "text": [
      "\n",
      "At position 1:\n",
      "Y is: 100.0%\n",
      "\n",
      "At position 2:\n",
      "S is: 82.6923076923077%\n",
      "E is: 1.9230769230769231%\n",
      "T is: 15.384615384615385%\n",
      "\n",
      "At position 3:\n",
      "P is: 98.07692307692307%\n",
      "L is: 1.9230769230769231%\n",
      "\n",
      "At position 4:\n",
      "T is: 86.53846153846155%\n",
      "R is: 1.9230769230769231%\n",
      "Q is: 3.8461538461538463%\n",
      "S is: 7.6923076923076925%\n",
      "\n",
      "At position 5:\n",
      "S is: 98.07692307692307%\n",
      "T is: 1.9230769230769231%\n",
      "\n",
      "At position 6:\n",
      "P is: 100.0%\n",
      "\n",
      "At position 7:\n",
      "A is: 3.8461538461538463%\n",
      "G is: 3.8461538461538463%\n",
      "S is: 50.0%\n",
      "N is: 9.615384615384617%\n",
      "R is: 1.9230769230769231%\n",
      "T is: 11.538461538461538%\n",
      "K is: 15.384615384615385%\n",
      "E is: 1.9230769230769231%\n",
      "V is: 1.9230769230769231%\n"
     ]
    },
    {
     "data": {
      "image/png": "[encoded data removed]",
      "text/plain": [
       "<Figure size 432x288 with 1 Axes>"
      ]
     },
     "metadata": {
      "needs_background": "light"
     },
     "output_type": "display_data"
    }
   ],
   "source": [
    "import matplotlib.pyplot as plt\n",
    "%matplotlib inline\n",
    "fig, ax = plt.subplots()\n",
    "for i in np.arange(7):\n",
    "    amino_acids, percentages = aa_counter(i)    \n",
    "    print(f\"\\nAt position {i+1}:\")\n",
    "    for amino_acid, percentage in zip(amino_acids, percentages):\n",
    "        print(f\"{amino_acid} is: {percentage}%\")\n",
    "        ax.bar(i+1, percentage, color = color_dict[amino_acid], label = amino_acid)\n",
    "# leg_dict = {k: color_dict[k] for k in ('Y','S','P','T')}\n",
    "leg_dict = {\"Y\":'red', \"S\":'green', \"P\":'pink', \"T\":'blue'}\n",
    "plt.legend(leg_dict)\n",
    "plt.show()"
   ]
  },
  {
   "cell_type": "code",
   "execution_count": null,
   "metadata": {},
   "outputs": [],
   "source": []
  },
  {
   "cell_type": "code",
   "execution_count": null,
   "metadata": {},
   "outputs": [],
   "source": []
  }
 ],
 "metadata": {
  "kernelspec": {
   "display_name": "Python 3",
   "language": "python",
   "name": "python3"
  },
  "language_info": {
   "codemirror_mode": {
    "name": "ipython",
    "version": 3
   },
   "file_extension": ".py",
   "mimetype": "text/x-python",
   "name": "python",
   "nbconvert_exporter": "python",
   "pygments_lexer": "ipython3",
   "version": "3.7.3"
  }
 },
 "nbformat": 4,
 "nbformat_minor": 2
}
