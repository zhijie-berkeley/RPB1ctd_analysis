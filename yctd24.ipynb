{
 "cells": [
  {
   "cell_type": "code",
   "execution_count": 28,
   "metadata": {},
   "outputs": [
    {
     "name": "stdout",
     "output_type": "stream",
     "text": [
      "YSPTSPAYSPTSPSYSPTSPSYSPTSPSYSPTSPSYSPTSPSYSPTSPSYSPTSPSYSPTSPSYSPTSPSYSPTSPSYSPTSPSYSPTSPSYSPTSPSYSPTSPSYSPTSPAYSPTSPSYSPTSPSYSPTSPSYSPTSPSYSPTSPNYSPTSPSYSPTSPGYSPGSPA\n"
     ]
    }
   ],
   "source": [
    "#yctd sequence from https://www.uniprot.org/blast/?about=P04050[1549-1716]&key=Region\n",
    "with open('yCTD24.txt', 'r') as f:\n",
    "    f.readline()\n",
    "    yctd24 = f.read().replace('\\n', '')\n",
    "print(yctd24)"
   ]
  },
  {
   "cell_type": "code",
   "execution_count": 29,
   "metadata": {},
   "outputs": [
    {
     "name": "stdout",
     "output_type": "stream",
     "text": [
      "['YSPTSPA', 'YSPTSPS', 'YSPTSPS', 'YSPTSPS', 'YSPTSPS', 'YSPTSPS', 'YSPTSPS', 'YSPTSPS', 'YSPTSPS', 'YSPTSPS', 'YSPTSPS', 'YSPTSPS', 'YSPTSPS', 'YSPTSPS', 'YSPTSPS', 'YSPTSPA', 'YSPTSPS', 'YSPTSPS', 'YSPTSPS', 'YSPTSPS', 'YSPTSPN', 'YSPTSPS', 'YSPTSPG', 'YSPGSPA']\n"
     ]
    }
   ],
   "source": [
    "yctd_list = []\n",
    "index = yctd24.index(\"Y\", 1)\n",
    "start = 0\n",
    "while index>0:\n",
    "    yctd_list.append(yctd24[start:index])\n",
    "    start = index\n",
    "#     print(index)\n",
    "    index = yctd24.find(\"Y\", index + 1)\n",
    "yctd_list.append(yctd24[start:])\n",
    "print(yctd_list)\n",
    "    "
   ]
  },
  {
   "cell_type": "code",
   "execution_count": 4,
   "metadata": {},
   "outputs": [],
   "source": [
    "# import csv\n",
    "# with open(\"hctd52.csv\", \"w\") as f:\n",
    "#         writer = csv.writer(f, delimiter=',')\n",
    "#         writer.writerow([1, 2, 3, 4, 5, 6, 7])\n",
    "#         for i in hctd_list:\n",
    "#             writer.writerow(i)"
   ]
  },
  {
   "cell_type": "code",
   "execution_count": 30,
   "metadata": {},
   "outputs": [],
   "source": [
    "import pandas as pd\n",
    "df = pd.DataFrame(list(i) for i in yctd_list)\n",
    "df.to_csv(\"yctd24.csv\", sep=',', index = False)"
   ]
  },
  {
   "cell_type": "code",
   "execution_count": 31,
   "metadata": {},
   "outputs": [],
   "source": [
    "# df = pd.read_csv('hctd52.csv', error_bad_lines=False)\n",
    "df = pd.read_csv('yctd24.csv')"
   ]
  },
  {
   "cell_type": "code",
   "execution_count": 34,
   "metadata": {},
   "outputs": [
    {
     "data": {
      "text/plain": [
       "0     P\n",
       "1     P\n",
       "2     P\n",
       "3     P\n",
       "4     P\n",
       "5     P\n",
       "6     P\n",
       "7     P\n",
       "8     P\n",
       "9     P\n",
       "10    P\n",
       "11    P\n",
       "12    P\n",
       "13    P\n",
       "14    P\n",
       "15    P\n",
       "16    P\n",
       "17    P\n",
       "18    P\n",
       "19    P\n",
       "20    P\n",
       "21    P\n",
       "22    P\n",
       "23    P\n",
       "Name: 2, dtype: object"
      ]
     },
     "execution_count": 34,
     "metadata": {},
     "output_type": "execute_result"
    }
   ],
   "source": [
    "df.iloc[:,2] #look at the third column"
   ]
  },
  {
   "cell_type": "code",
   "execution_count": 35,
   "metadata": {},
   "outputs": [
    {
     "name": "stdout",
     "output_type": "stream",
     "text": [
      "The amino acid composition at position 1 is:\n",
      " Y    24\n",
      "Name: 0, dtype: int64 \n",
      "\n",
      "The amino acid composition at position 2 is:\n",
      " S    24\n",
      "Name: 1, dtype: int64 \n",
      "\n",
      "The amino acid composition at position 3 is:\n",
      " P    24\n",
      "Name: 2, dtype: int64 \n",
      "\n",
      "The amino acid composition at position 4 is:\n",
      " T    23\n",
      "G     1\n",
      "Name: 3, dtype: int64 \n",
      "\n",
      "The amino acid composition at position 5 is:\n",
      " S    24\n",
      "Name: 4, dtype: int64 \n",
      "\n",
      "The amino acid composition at position 6 is:\n",
      " P    24\n",
      "Name: 5, dtype: int64 \n",
      "\n",
      "The amino acid composition at position 7 is:\n",
      " S    19\n",
      "A     3\n",
      "N     1\n",
      "G     1\n",
      "Name: 6, dtype: int64 \n",
      "\n"
     ]
    }
   ],
   "source": [
    "import numpy as np\n",
    "for i in np.arange(7):\n",
    "    print(f\"The amino acid composition at position {i+1} is:\\n\", df.iloc[:,i].value_counts(), '\\n')"
   ]
  },
  {
   "cell_type": "code",
   "execution_count": 36,
   "metadata": {},
   "outputs": [],
   "source": [
    "def aa_counter(column_index):\n",
    "    amino_acids = []\n",
    "    percentages = []\n",
    "    for amino_acid in df.iloc[:,column_index].unique():\n",
    "        amino_acids.append(amino_acid)\n",
    "        aa_count = df.iloc[:,column_index].str.count(amino_acid).sum()\n",
    "        total = len(df.iloc[:,column_index])\n",
    "        percentage = aa_count/total*100\n",
    "        percentages.append(percentage)\n",
    "    return amino_acids, percentages"
   ]
  },
  {
   "cell_type": "code",
   "execution_count": 37,
   "metadata": {},
   "outputs": [
    {
     "name": "stdout",
     "output_type": "stream",
     "text": [
      "\n",
      "At position 1:\n",
      "Y is: 100.0%\n",
      "\n",
      "At position 2:\n",
      "S is: 100.0%\n",
      "\n",
      "At position 3:\n",
      "P is: 100.0%\n",
      "\n",
      "At position 4:\n",
      "T is: 95.83333333333334%\n",
      "G is: 4.166666666666666%\n",
      "\n",
      "At position 5:\n",
      "S is: 100.0%\n",
      "\n",
      "At position 6:\n",
      "P is: 100.0%\n",
      "\n",
      "At position 7:\n",
      "A is: 12.5%\n",
      "S is: 79.16666666666666%\n",
      "N is: 4.166666666666666%\n",
      "G is: 4.166666666666666%\n"
     ]
    },
    {
     "data": {
      "image/png": "[encoded data removed]",
      "text/plain": [
       "<Figure size 432x288 with 1 Axes>"
      ]
     },
     "metadata": {
      "needs_background": "light"
     },
     "output_type": "display_data"
    }
   ],
   "source": [
    "import matplotlib.pyplot as plt\n",
    "%matplotlib inline\n",
    "for i in np.arange(7):\n",
    "    amino_acids, percentages = aa_counter(i)    \n",
    "    print(f\"\\nAt position {i+1}:\")\n",
    "    for amino_acid, percentage in zip(amino_acids, percentages):\n",
    "        print(f\"{amino_acid} is: {percentage}%\")\n",
    "        plt.bar(i+1, percentage)"
   ]
  },
  {
   "cell_type": "code",
   "execution_count": 41,
   "metadata": {},
   "outputs": [
    {
     "name": "stdout",
     "output_type": "stream",
     "text": [
      "['A', 'Y', 'T', 'S', 'N', 'P', 'G']\n",
      "0 A\n",
      "1 Y\n",
      "2 T\n",
      "3 S\n",
      "4 N\n",
      "5 P\n",
      "6 G\n"
     ]
    },
    {
     "data": {
      "text/plain": [
       "{'A': (0.12156862745098039, 0.4666666666666667, 0.7058823529411765),\n",
       " 'Y': 'red',\n",
       " 'T': 'blue',\n",
       " 'S': 'green',\n",
       " 'N': (0.17254901960784313, 0.6274509803921569, 0.17254901960784313),\n",
       " 'P': 'pink',\n",
       " 'G': (0.8392156862745098, 0.15294117647058825, 0.1568627450980392)}"
      ]
     },
     "execution_count": 41,
     "metadata": {},
     "output_type": "execute_result"
    }
   ],
   "source": [
    "from matplotlib.cm import get_cmap\n",
    "colors = get_cmap('tab20').colors\n",
    "# axes.set_prop_cycle(color=colors)\n",
    "aa_colors = []\n",
    "all_aa = list(set(yctd24))\n",
    "print(all_aa)\n",
    "for i, aa in enumerate(all_aa):\n",
    "    print(i, aa)\n",
    "    aa_colors.append(colors[i])\n",
    "color_dict = {all_aa[i]: aa_colors[i] for i in range(len(all_aa))}\n",
    "color_dict['Y'] = 'red'\n",
    "color_dict['S'] = 'green'\n",
    "color_dict['P'] = 'pink'\n",
    "color_dict['T'] = 'blue'\n",
    "color_dict"
   ]
  },
  {
   "cell_type": "code",
   "execution_count": 40,
   "metadata": {},
   "outputs": [
    {
     "name": "stdout",
     "output_type": "stream",
     "text": [
      "\n",
      "At position 1:\n",
      "Y is: 100.0%\n",
      "\n",
      "At position 2:\n",
      "S is: 100.0%\n",
      "\n",
      "At position 3:\n",
      "P is: 100.0%\n",
      "\n",
      "At position 4:\n",
      "T is: 95.83333333333334%\n",
      "G is: 4.166666666666666%\n",
      "\n",
      "At position 5:\n",
      "S is: 100.0%\n",
      "\n",
      "At position 6:\n",
      "P is: 100.0%\n",
      "\n",
      "At position 7:\n",
      "A is: 12.5%\n",
      "S is: 79.16666666666666%\n",
      "N is: 4.166666666666666%\n",
      "G is: 4.166666666666666%\n"
     ]
    },
    {
     "data": {
      "image/png": "[encoded data removed]",
      "text/plain": [
       "<Figure size 432x288 with 1 Axes>"
      ]
     },
     "metadata": {
      "needs_background": "light"
     },
     "output_type": "display_data"
    }
   ],
   "source": [
    "import matplotlib.pyplot as plt\n",
    "%matplotlib inline\n",
    "fig, ax = plt.subplots()\n",
    "for i in np.arange(7):\n",
    "    amino_acids, percentages = aa_counter(i)    \n",
    "    print(f\"\\nAt position {i+1}:\")\n",
    "    for amino_acid, percentage in zip(amino_acids, percentages):\n",
    "        print(f\"{amino_acid} is: {percentage}%\")\n",
    "        ax.bar(i+1, percentage, color = color_dict[amino_acid], label = amino_acid)\n",
    "# leg_dict = {k: color_dict[k] for k in ('Y','S','P','T')}\n",
    "leg_dict = {\"Y\":'red', \"S\":'green', \"P\":'pink', \"T\":'blue'}\n",
    "plt.legend(leg_dict)\n",
    "plt.show()"
   ]
  },
  {
   "cell_type": "code",
   "execution_count": null,
   "metadata": {},
   "outputs": [],
   "source": []
  }
 ],
 "metadata": {
  "kernelspec": {
   "display_name": "Python 3",
   "language": "python",
   "name": "python3"
  },
  "language_info": {
   "codemirror_mode": {
    "name": "ipython",
    "version": 3
   },
   "file_extension": ".py",
   "mimetype": "text/x-python",
   "name": "python",
   "nbconvert_exporter": "python",
   "pygments_lexer": "ipython3",
   "version": "3.7.3"
  }
 },
 "nbformat": 4,
 "nbformat_minor": 2
}
